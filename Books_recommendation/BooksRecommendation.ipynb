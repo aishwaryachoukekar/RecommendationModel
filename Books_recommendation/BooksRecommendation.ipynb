{
 "cells": [
  {
   "cell_type": "markdown",
   "id": "83119858",
   "metadata": {},
   "source": [
    "Data: https://www.kaggle.com/datasets/rxsraghavagrawal/book-recommender-system"
   ]
  },
  {
   "cell_type": "code",
   "execution_count": 1,
   "id": "16b84aae",
   "metadata": {},
   "outputs": [],
   "source": [
    "import numpy as np\n",
    "import pandas as pd\n",
    "import seaborn as sns\n",
    "import matplotlib.pyplot as plt\n",
    "from sklearn.neighbors import NearestNeighbors\n",
    "from scipy.sparse import csr_matrix\n",
    "import warnings\n",
    "warnings.filterwarnings('ignore')"
   ]
  },
  {
   "cell_type": "markdown",
   "id": "56d0a14f",
   "metadata": {},
   "source": [
    "### Loading dataset\n",
    "\n",
    "We have three set of csv files with semi-colon as separator. We would be importing all the three files."
   ]
  },
  {
   "cell_type": "code",
   "execution_count": 2,
   "id": "99b14249",
   "metadata": {},
   "outputs": [
    {
     "name": "stderr",
     "output_type": "stream",
     "text": [
      "b'Skipping line 6452: expected 8 fields, saw 9\\nSkipping line 43667: expected 8 fields, saw 10\\nSkipping line 51751: expected 8 fields, saw 9\\n'\n",
      "b'Skipping line 92038: expected 8 fields, saw 9\\nSkipping line 104319: expected 8 fields, saw 9\\nSkipping line 121768: expected 8 fields, saw 9\\n'\n",
      "b'Skipping line 144058: expected 8 fields, saw 9\\nSkipping line 150789: expected 8 fields, saw 9\\nSkipping line 157128: expected 8 fields, saw 9\\nSkipping line 180189: expected 8 fields, saw 9\\nSkipping line 185738: expected 8 fields, saw 9\\n'\n",
      "b'Skipping line 209388: expected 8 fields, saw 9\\nSkipping line 220626: expected 8 fields, saw 9\\nSkipping line 227933: expected 8 fields, saw 11\\nSkipping line 228957: expected 8 fields, saw 10\\nSkipping line 245933: expected 8 fields, saw 9\\nSkipping line 251296: expected 8 fields, saw 9\\nSkipping line 259941: expected 8 fields, saw 9\\nSkipping line 261529: expected 8 fields, saw 9\\n'\n"
     ]
    }
   ],
   "source": [
    "books = pd.read_csv(\"BX-Books.csv\", sep=';', encoding=\"latin-1\", error_bad_lines=False)\n",
    "users = pd.read_csv(\"BX-Users.csv\", sep=';', encoding=\"latin-1\", error_bad_lines=False)\n",
    "ratings = pd.read_csv(\"BX-Book-Ratings.csv\", sep=';', encoding=\"latin-1\", error_bad_lines=False)"
   ]
  },
  {
   "cell_type": "code",
   "execution_count": 3,
   "id": "775d1cee",
   "metadata": {},
   "outputs": [
    {
     "name": "stdout",
     "output_type": "stream",
     "text": [
      "(271360, 8)\n",
      "(278858, 3)\n",
      "(1149780, 3)\n"
     ]
    }
   ],
   "source": [
    "print(books.shape)\n",
    "print(users.shape)\n",
    "print(ratings.shape)"
   ]
  },
  {
   "cell_type": "code",
   "execution_count": 4,
   "id": "ee23513b",
   "metadata": {},
   "outputs": [
    {
     "data": {
      "text/html": [
       "<div>\n",
       "<style scoped>\n",
       "    .dataframe tbody tr th:only-of-type {\n",
       "        vertical-align: middle;\n",
       "    }\n",
       "\n",
       "    .dataframe tbody tr th {\n",
       "        vertical-align: top;\n",
       "    }\n",
       "\n",
       "    .dataframe thead th {\n",
       "        text-align: right;\n",
       "    }\n",
       "</style>\n",
       "<table border=\"1\" class=\"dataframe\">\n",
       "  <thead>\n",
       "    <tr style=\"text-align: right;\">\n",
       "      <th></th>\n",
       "      <th>ISBN</th>\n",
       "      <th>Book-Title</th>\n",
       "      <th>Book-Author</th>\n",
       "      <th>Year-Of-Publication</th>\n",
       "      <th>Publisher</th>\n",
       "      <th>Image-URL-S</th>\n",
       "      <th>Image-URL-M</th>\n",
       "      <th>Image-URL-L</th>\n",
       "    </tr>\n",
       "  </thead>\n",
       "  <tbody>\n",
       "    <tr>\n",
       "      <th>0</th>\n",
       "      <td>0195153448</td>\n",
       "      <td>Classical Mythology</td>\n",
       "      <td>Mark P. O. Morford</td>\n",
       "      <td>2002</td>\n",
       "      <td>Oxford University Press</td>\n",
       "      <td>http://images.amazon.com/images/P/0195153448.0...</td>\n",
       "      <td>http://images.amazon.com/images/P/0195153448.0...</td>\n",
       "      <td>http://images.amazon.com/images/P/0195153448.0...</td>\n",
       "    </tr>\n",
       "    <tr>\n",
       "      <th>1</th>\n",
       "      <td>0002005018</td>\n",
       "      <td>Clara Callan</td>\n",
       "      <td>Richard Bruce Wright</td>\n",
       "      <td>2001</td>\n",
       "      <td>HarperFlamingo Canada</td>\n",
       "      <td>http://images.amazon.com/images/P/0002005018.0...</td>\n",
       "      <td>http://images.amazon.com/images/P/0002005018.0...</td>\n",
       "      <td>http://images.amazon.com/images/P/0002005018.0...</td>\n",
       "    </tr>\n",
       "  </tbody>\n",
       "</table>\n",
       "</div>"
      ],
      "text/plain": [
       "         ISBN           Book-Title           Book-Author Year-Of-Publication  \\\n",
       "0  0195153448  Classical Mythology    Mark P. O. Morford                2002   \n",
       "1  0002005018         Clara Callan  Richard Bruce Wright                2001   \n",
       "\n",
       "                 Publisher                                        Image-URL-S  \\\n",
       "0  Oxford University Press  http://images.amazon.com/images/P/0195153448.0...   \n",
       "1    HarperFlamingo Canada  http://images.amazon.com/images/P/0002005018.0...   \n",
       "\n",
       "                                         Image-URL-M  \\\n",
       "0  http://images.amazon.com/images/P/0195153448.0...   \n",
       "1  http://images.amazon.com/images/P/0002005018.0...   \n",
       "\n",
       "                                         Image-URL-L  \n",
       "0  http://images.amazon.com/images/P/0195153448.0...  \n",
       "1  http://images.amazon.com/images/P/0002005018.0...  "
      ]
     },
     "execution_count": 4,
     "metadata": {},
     "output_type": "execute_result"
    }
   ],
   "source": [
    "books.head(2)"
   ]
  },
  {
   "cell_type": "code",
   "execution_count": 5,
   "id": "625a9f3d",
   "metadata": {},
   "outputs": [
    {
     "data": {
      "text/html": [
       "<div>\n",
       "<style scoped>\n",
       "    .dataframe tbody tr th:only-of-type {\n",
       "        vertical-align: middle;\n",
       "    }\n",
       "\n",
       "    .dataframe tbody tr th {\n",
       "        vertical-align: top;\n",
       "    }\n",
       "\n",
       "    .dataframe thead th {\n",
       "        text-align: right;\n",
       "    }\n",
       "</style>\n",
       "<table border=\"1\" class=\"dataframe\">\n",
       "  <thead>\n",
       "    <tr style=\"text-align: right;\">\n",
       "      <th></th>\n",
       "      <th>User-ID</th>\n",
       "      <th>Location</th>\n",
       "      <th>Age</th>\n",
       "    </tr>\n",
       "  </thead>\n",
       "  <tbody>\n",
       "    <tr>\n",
       "      <th>0</th>\n",
       "      <td>1</td>\n",
       "      <td>nyc, new york, usa</td>\n",
       "      <td>NaN</td>\n",
       "    </tr>\n",
       "    <tr>\n",
       "      <th>1</th>\n",
       "      <td>2</td>\n",
       "      <td>stockton, california, usa</td>\n",
       "      <td>18.0</td>\n",
       "    </tr>\n",
       "  </tbody>\n",
       "</table>\n",
       "</div>"
      ],
      "text/plain": [
       "   User-ID                   Location   Age\n",
       "0        1         nyc, new york, usa   NaN\n",
       "1        2  stockton, california, usa  18.0"
      ]
     },
     "execution_count": 5,
     "metadata": {},
     "output_type": "execute_result"
    }
   ],
   "source": [
    "users.head(2)"
   ]
  },
  {
   "cell_type": "code",
   "execution_count": 6,
   "id": "f11c4c59",
   "metadata": {},
   "outputs": [
    {
     "data": {
      "text/html": [
       "<div>\n",
       "<style scoped>\n",
       "    .dataframe tbody tr th:only-of-type {\n",
       "        vertical-align: middle;\n",
       "    }\n",
       "\n",
       "    .dataframe tbody tr th {\n",
       "        vertical-align: top;\n",
       "    }\n",
       "\n",
       "    .dataframe thead th {\n",
       "        text-align: right;\n",
       "    }\n",
       "</style>\n",
       "<table border=\"1\" class=\"dataframe\">\n",
       "  <thead>\n",
       "    <tr style=\"text-align: right;\">\n",
       "      <th></th>\n",
       "      <th>User-ID</th>\n",
       "      <th>ISBN</th>\n",
       "      <th>Book-Rating</th>\n",
       "    </tr>\n",
       "  </thead>\n",
       "  <tbody>\n",
       "    <tr>\n",
       "      <th>0</th>\n",
       "      <td>276725</td>\n",
       "      <td>034545104X</td>\n",
       "      <td>0</td>\n",
       "    </tr>\n",
       "    <tr>\n",
       "      <th>1</th>\n",
       "      <td>276726</td>\n",
       "      <td>0155061224</td>\n",
       "      <td>5</td>\n",
       "    </tr>\n",
       "  </tbody>\n",
       "</table>\n",
       "</div>"
      ],
      "text/plain": [
       "   User-ID        ISBN  Book-Rating\n",
       "0   276725  034545104X            0\n",
       "1   276726  0155061224            5"
      ]
     },
     "execution_count": 6,
     "metadata": {},
     "output_type": "execute_result"
    }
   ],
   "source": [
    "ratings.head(2)"
   ]
  },
  {
   "cell_type": "markdown",
   "id": "bc773150",
   "metadata": {},
   "source": [
    "### EDA and pre-processing"
   ]
  },
  {
   "cell_type": "markdown",
   "id": "5a0702d8",
   "metadata": {},
   "source": [
    "We start by dropping image URLs from dataframe books"
   ]
  },
  {
   "cell_type": "code",
   "execution_count": 7,
   "id": "6b1aa120",
   "metadata": {},
   "outputs": [],
   "source": [
    "books = books[['ISBN', 'Book-Title', 'Book-Author', 'Year-Of-Publication', 'Publisher']]"
   ]
  },
  {
   "cell_type": "code",
   "execution_count": 8,
   "id": "a7d524b7",
   "metadata": {},
   "outputs": [],
   "source": [
    "#renaming some of the columns for convenience\n",
    "books.rename(columns = {'Book-Title':'title', 'Book-Author':'author', 'Year-Of-Publication':'year'}, inplace=True)\n",
    "users.rename(columns = {'User-ID':'userid'}, inplace=True)\n",
    "ratings.rename(columns = {'User-ID':'userid', 'Book-Rating':'rating'}, inplace=True)"
   ]
  },
  {
   "cell_type": "code",
   "execution_count": 9,
   "id": "263527c1",
   "metadata": {},
   "outputs": [
    {
     "name": "stdout",
     "output_type": "stream",
     "text": [
      "(1825,)\n"
     ]
    }
   ],
   "source": [
    "#keeping only users who have provided more that 100 ratings\n",
    "uid = ratings['userid'].value_counts()>100\n",
    "y = uid[uid].index  #user_ids\n",
    "print(y.shape)"
   ]
  },
  {
   "cell_type": "code",
   "execution_count": 10,
   "id": "81897358",
   "metadata": {},
   "outputs": [
    {
     "name": "stdout",
     "output_type": "stream",
     "text": [
      "(656605, 3)\n"
     ]
    }
   ],
   "source": [
    "ratings = ratings[ratings['userid'].isin(y)]\n",
    "print(ratings.shape)"
   ]
  },
  {
   "cell_type": "markdown",
   "id": "0f0e68fb",
   "metadata": {},
   "source": [
    "### Merging ratings and books"
   ]
  },
  {
   "cell_type": "code",
   "execution_count": 11,
   "id": "8e8809e1",
   "metadata": {},
   "outputs": [
    {
     "data": {
      "text/html": [
       "<div>\n",
       "<style scoped>\n",
       "    .dataframe tbody tr th:only-of-type {\n",
       "        vertical-align: middle;\n",
       "    }\n",
       "\n",
       "    .dataframe tbody tr th {\n",
       "        vertical-align: top;\n",
       "    }\n",
       "\n",
       "    .dataframe thead th {\n",
       "        text-align: right;\n",
       "    }\n",
       "</style>\n",
       "<table border=\"1\" class=\"dataframe\">\n",
       "  <thead>\n",
       "    <tr style=\"text-align: right;\">\n",
       "      <th></th>\n",
       "      <th>userid</th>\n",
       "      <th>ISBN</th>\n",
       "      <th>rating</th>\n",
       "      <th>title</th>\n",
       "      <th>author</th>\n",
       "      <th>year</th>\n",
       "      <th>Publisher</th>\n",
       "    </tr>\n",
       "  </thead>\n",
       "  <tbody>\n",
       "    <tr>\n",
       "      <th>0</th>\n",
       "      <td>276925</td>\n",
       "      <td>002542730X</td>\n",
       "      <td>10</td>\n",
       "      <td>Politically Correct Bedtime Stories: Modern Ta...</td>\n",
       "      <td>James Finn Garner</td>\n",
       "      <td>1994</td>\n",
       "      <td>John Wiley &amp;amp; Sons Inc</td>\n",
       "    </tr>\n",
       "    <tr>\n",
       "      <th>1</th>\n",
       "      <td>277427</td>\n",
       "      <td>002542730X</td>\n",
       "      <td>10</td>\n",
       "      <td>Politically Correct Bedtime Stories: Modern Ta...</td>\n",
       "      <td>James Finn Garner</td>\n",
       "      <td>1994</td>\n",
       "      <td>John Wiley &amp;amp; Sons Inc</td>\n",
       "    </tr>\n",
       "  </tbody>\n",
       "</table>\n",
       "</div>"
      ],
      "text/plain": [
       "   userid        ISBN  rating  \\\n",
       "0  276925  002542730X      10   \n",
       "1  277427  002542730X      10   \n",
       "\n",
       "                                               title             author  year  \\\n",
       "0  Politically Correct Bedtime Stories: Modern Ta...  James Finn Garner  1994   \n",
       "1  Politically Correct Bedtime Stories: Modern Ta...  James Finn Garner  1994   \n",
       "\n",
       "                   Publisher  \n",
       "0  John Wiley &amp; Sons Inc  \n",
       "1  John Wiley &amp; Sons Inc  "
      ]
     },
     "execution_count": 11,
     "metadata": {},
     "output_type": "execute_result"
    }
   ],
   "source": [
    "df1 = ratings.merge(books, on='ISBN')\n",
    "df1.head(2)"
   ]
  },
  {
   "cell_type": "code",
   "execution_count": 12,
   "id": "047a8205",
   "metadata": {},
   "outputs": [
    {
     "data": {
      "text/plain": [
       "(163583, 8)"
      ]
     },
     "execution_count": 12,
     "metadata": {},
     "output_type": "execute_result"
    }
   ],
   "source": [
    "#getting count of ratings and keep records with atleast 25 ratings\n",
    "count_rating = df1.groupby('title')['rating'].count().reset_index()\n",
    "count_rating.rename(columns= {'rating':'ratings_count'}, inplace=True)\n",
    "data = df1.merge(count_rating, on='title')\n",
    "data = data[data['ratings_count'] >= 25]\n",
    "data.drop_duplicates(['userid','title'], inplace=True)\n",
    "data.shape"
   ]
  },
  {
   "cell_type": "code",
   "execution_count": 13,
   "id": "79b6ea81",
   "metadata": {},
   "outputs": [
    {
     "data": {
      "text/html": [
       "<div>\n",
       "<style scoped>\n",
       "    .dataframe tbody tr th:only-of-type {\n",
       "        vertical-align: middle;\n",
       "    }\n",
       "\n",
       "    .dataframe tbody tr th {\n",
       "        vertical-align: top;\n",
       "    }\n",
       "\n",
       "    .dataframe thead th {\n",
       "        text-align: right;\n",
       "    }\n",
       "</style>\n",
       "<table border=\"1\" class=\"dataframe\">\n",
       "  <thead>\n",
       "    <tr style=\"text-align: right;\">\n",
       "      <th></th>\n",
       "      <th>userid</th>\n",
       "      <th>ISBN</th>\n",
       "      <th>rating</th>\n",
       "      <th>title</th>\n",
       "      <th>author</th>\n",
       "      <th>year</th>\n",
       "      <th>Publisher</th>\n",
       "      <th>ratings_count</th>\n",
       "    </tr>\n",
       "  </thead>\n",
       "  <tbody>\n",
       "    <tr>\n",
       "      <th>0</th>\n",
       "      <td>276925</td>\n",
       "      <td>002542730X</td>\n",
       "      <td>10</td>\n",
       "      <td>Politically Correct Bedtime Stories: Modern Ta...</td>\n",
       "      <td>James Finn Garner</td>\n",
       "      <td>1994</td>\n",
       "      <td>John Wiley &amp;amp; Sons Inc</td>\n",
       "      <td>105</td>\n",
       "    </tr>\n",
       "    <tr>\n",
       "      <th>1</th>\n",
       "      <td>277427</td>\n",
       "      <td>002542730X</td>\n",
       "      <td>10</td>\n",
       "      <td>Politically Correct Bedtime Stories: Modern Ta...</td>\n",
       "      <td>James Finn Garner</td>\n",
       "      <td>1994</td>\n",
       "      <td>John Wiley &amp;amp; Sons Inc</td>\n",
       "      <td>105</td>\n",
       "    </tr>\n",
       "  </tbody>\n",
       "</table>\n",
       "</div>"
      ],
      "text/plain": [
       "   userid        ISBN  rating  \\\n",
       "0  276925  002542730X      10   \n",
       "1  277427  002542730X      10   \n",
       "\n",
       "                                               title             author  year  \\\n",
       "0  Politically Correct Bedtime Stories: Modern Ta...  James Finn Garner  1994   \n",
       "1  Politically Correct Bedtime Stories: Modern Ta...  James Finn Garner  1994   \n",
       "\n",
       "                   Publisher  ratings_count  \n",
       "0  John Wiley &amp; Sons Inc            105  \n",
       "1  John Wiley &amp; Sons Inc            105  "
      ]
     },
     "execution_count": 13,
     "metadata": {},
     "output_type": "execute_result"
    }
   ],
   "source": [
    "data.head(2)"
   ]
  },
  {
   "cell_type": "code",
   "execution_count": 14,
   "id": "9845c91b",
   "metadata": {},
   "outputs": [
    {
     "name": "stdout",
     "output_type": "stream",
     "text": [
      "userid           0\n",
      "ISBN             0\n",
      "rating           0\n",
      "title            0\n",
      "author           0\n",
      "year             0\n",
      "Publisher        0\n",
      "ratings_count    0\n",
      "dtype: int64\n"
     ]
    }
   ],
   "source": [
    "print(data.isnull().sum())"
   ]
  },
  {
   "cell_type": "code",
   "execution_count": 15,
   "id": "390256c9",
   "metadata": {},
   "outputs": [
    {
     "data": {
      "text/html": [
       "<div>\n",
       "<style scoped>\n",
       "    .dataframe tbody tr th:only-of-type {\n",
       "        vertical-align: middle;\n",
       "    }\n",
       "\n",
       "    .dataframe tbody tr th {\n",
       "        vertical-align: top;\n",
       "    }\n",
       "\n",
       "    .dataframe thead th {\n",
       "        text-align: right;\n",
       "    }\n",
       "</style>\n",
       "<table border=\"1\" class=\"dataframe\">\n",
       "  <thead>\n",
       "    <tr style=\"text-align: right;\">\n",
       "      <th></th>\n",
       "      <th>userid</th>\n",
       "      <th>rating</th>\n",
       "      <th>ratings_count</th>\n",
       "    </tr>\n",
       "  </thead>\n",
       "  <tbody>\n",
       "    <tr>\n",
       "      <th>count</th>\n",
       "      <td>163583.000000</td>\n",
       "      <td>163583.000000</td>\n",
       "      <td>163583.000000</td>\n",
       "    </tr>\n",
       "    <tr>\n",
       "      <th>mean</th>\n",
       "      <td>139897.692633</td>\n",
       "      <td>2.112206</td>\n",
       "      <td>86.258444</td>\n",
       "    </tr>\n",
       "    <tr>\n",
       "      <th>std</th>\n",
       "      <td>80328.699263</td>\n",
       "      <td>3.608552</td>\n",
       "      <td>74.015321</td>\n",
       "    </tr>\n",
       "    <tr>\n",
       "      <th>min</th>\n",
       "      <td>183.000000</td>\n",
       "      <td>0.000000</td>\n",
       "      <td>25.000000</td>\n",
       "    </tr>\n",
       "    <tr>\n",
       "      <th>25%</th>\n",
       "      <td>69697.000000</td>\n",
       "      <td>0.000000</td>\n",
       "      <td>38.000000</td>\n",
       "    </tr>\n",
       "    <tr>\n",
       "      <th>50%</th>\n",
       "      <td>140000.000000</td>\n",
       "      <td>0.000000</td>\n",
       "      <td>60.000000</td>\n",
       "    </tr>\n",
       "    <tr>\n",
       "      <th>75%</th>\n",
       "      <td>211426.000000</td>\n",
       "      <td>5.000000</td>\n",
       "      <td>107.000000</td>\n",
       "    </tr>\n",
       "    <tr>\n",
       "      <th>max</th>\n",
       "      <td>278418.000000</td>\n",
       "      <td>10.000000</td>\n",
       "      <td>615.000000</td>\n",
       "    </tr>\n",
       "  </tbody>\n",
       "</table>\n",
       "</div>"
      ],
      "text/plain": [
       "              userid         rating  ratings_count\n",
       "count  163583.000000  163583.000000  163583.000000\n",
       "mean   139897.692633       2.112206      86.258444\n",
       "std     80328.699263       3.608552      74.015321\n",
       "min       183.000000       0.000000      25.000000\n",
       "25%     69697.000000       0.000000      38.000000\n",
       "50%    140000.000000       0.000000      60.000000\n",
       "75%    211426.000000       5.000000     107.000000\n",
       "max    278418.000000      10.000000     615.000000"
      ]
     },
     "execution_count": 15,
     "metadata": {},
     "output_type": "execute_result"
    }
   ],
   "source": [
    "data.describe()"
   ]
  },
  {
   "cell_type": "markdown",
   "id": "49609cbb",
   "metadata": {},
   "source": [
    "**Top 10 books with high rating count**"
   ]
  },
  {
   "cell_type": "code",
   "execution_count": 16,
   "id": "62cb7d2b",
   "metadata": {},
   "outputs": [
    {
     "data": {
      "text/plain": [
       "<AxesSubplot:xlabel='ratings_count', ylabel='title'>"
      ]
     },
     "execution_count": 16,
     "metadata": {},
     "output_type": "execute_result"
    },
    {
     "data": {
      "image/png": "[encoded data removed]",
      "text/plain": [
       "<Figure size 720x720 with 1 Axes>"
      ]
     },
     "metadata": {},
     "output_type": "display_data"
    }
   ],
   "source": [
    "plt.style.use('seaborn-whitegrid')\n",
    "plt.figure(figsize=(10, 10))\n",
    "df2 = data[['title','ratings_count']].drop_duplicates().sort_values(by='ratings_count', ascending=False).head(10)\n",
    "sns.barplot(x=\"ratings_count\", y=\"title\", data=df2, palette='crest')"
   ]
  },
  {
   "cell_type": "markdown",
   "id": "9c43fd3e",
   "metadata": {},
   "source": [
    "### Removing encoded characters"
   ]
  },
  {
   "cell_type": "code",
   "execution_count": 17,
   "id": "bcf0efc2",
   "metadata": {},
   "outputs": [],
   "source": [
    "data[['title']] = data[['title']].apply(lambda x: x.str.normalize('NFKD').str.encode('ascii', errors='ignore').str.decode('utf-8'))"
   ]
  },
  {
   "cell_type": "markdown",
   "id": "0abedb12",
   "metadata": {},
   "source": [
    "### Using lower case on titles"
   ]
  },
  {
   "cell_type": "code",
   "execution_count": 18,
   "id": "9179304b",
   "metadata": {},
   "outputs": [],
   "source": [
    "data['title'] = data['title'].str.lower()"
   ]
  },
  {
   "cell_type": "markdown",
   "id": "df3849ae",
   "metadata": {},
   "source": [
    "#### Recommendation Systems\n",
    "\n",
    "Recommedations can be based on three types\n",
    "\n",
    "- **Content Based Filtering:** Under this type of recommendations, tags are used. For example if user 1 reads Book A, B with certain tags associated with them and there are other books C, D which have similar tags associated to them then user 1 will be recommended books C and D.\n",
    "\n",
    "\n",
    "- **Collaborative Based Filtering:** This type of recommendation is based on users. If two users are watching similar contents then their respective choices will be recommended to each other as well. For example, if user 1 reads Books A, B and user 2 reads Books B, C then user 1 would be recommended Book C while user 2 will be recommended Book A.\n",
    "\n",
    "\n",
    "- **Hybrid Filtering**: This is a mixture of both above methods.\n",
    "\n",
    "For the scope of this project, we would be implementing **Collorative Based Filtering**. This used matrix factorization, for which we will be using pivot of our data as below."
   ]
  },
  {
   "cell_type": "markdown",
   "id": "6bbd1918",
   "metadata": {},
   "source": [
    "### Pivoting table"
   ]
  },
  {
   "cell_type": "code",
   "execution_count": 19,
   "id": "f01c9133",
   "metadata": {},
   "outputs": [
    {
     "data": {
      "text/html": [
       "<div>\n",
       "<style scoped>\n",
       "    .dataframe tbody tr th:only-of-type {\n",
       "        vertical-align: middle;\n",
       "    }\n",
       "\n",
       "    .dataframe tbody tr th {\n",
       "        vertical-align: top;\n",
       "    }\n",
       "\n",
       "    .dataframe thead th {\n",
       "        text-align: right;\n",
       "    }\n",
       "</style>\n",
       "<table border=\"1\" class=\"dataframe\">\n",
       "  <thead>\n",
       "    <tr style=\"text-align: right;\">\n",
       "      <th>userid</th>\n",
       "      <th>183</th>\n",
       "      <th>254</th>\n",
       "      <th>507</th>\n",
       "      <th>882</th>\n",
       "      <th>1424</th>\n",
       "      <th>1435</th>\n",
       "      <th>1733</th>\n",
       "      <th>1903</th>\n",
       "      <th>2033</th>\n",
       "      <th>2110</th>\n",
       "      <th>...</th>\n",
       "      <th>276018</th>\n",
       "      <th>276463</th>\n",
       "      <th>276680</th>\n",
       "      <th>276925</th>\n",
       "      <th>277427</th>\n",
       "      <th>277478</th>\n",
       "      <th>277639</th>\n",
       "      <th>278137</th>\n",
       "      <th>278188</th>\n",
       "      <th>278418</th>\n",
       "    </tr>\n",
       "    <tr>\n",
       "      <th>title</th>\n",
       "      <th></th>\n",
       "      <th></th>\n",
       "      <th></th>\n",
       "      <th></th>\n",
       "      <th></th>\n",
       "      <th></th>\n",
       "      <th></th>\n",
       "      <th></th>\n",
       "      <th></th>\n",
       "      <th></th>\n",
       "      <th></th>\n",
       "      <th></th>\n",
       "      <th></th>\n",
       "      <th></th>\n",
       "      <th></th>\n",
       "      <th></th>\n",
       "      <th></th>\n",
       "      <th></th>\n",
       "      <th></th>\n",
       "      <th></th>\n",
       "      <th></th>\n",
       "    </tr>\n",
       "  </thead>\n",
       "  <tbody>\n",
       "    <tr>\n",
       "      <th>'salem's lot</th>\n",
       "      <td>0.0</td>\n",
       "      <td>0.0</td>\n",
       "      <td>0.0</td>\n",
       "      <td>0.0</td>\n",
       "      <td>0.0</td>\n",
       "      <td>0.0</td>\n",
       "      <td>0.0</td>\n",
       "      <td>0.0</td>\n",
       "      <td>0.0</td>\n",
       "      <td>0.0</td>\n",
       "      <td>...</td>\n",
       "      <td>0.0</td>\n",
       "      <td>0.0</td>\n",
       "      <td>0.0</td>\n",
       "      <td>0.0</td>\n",
       "      <td>0.0</td>\n",
       "      <td>0.0</td>\n",
       "      <td>0.0</td>\n",
       "      <td>0.0</td>\n",
       "      <td>0.0</td>\n",
       "      <td>0.0</td>\n",
       "    </tr>\n",
       "    <tr>\n",
       "      <th>10 lb. penalty</th>\n",
       "      <td>0.0</td>\n",
       "      <td>0.0</td>\n",
       "      <td>0.0</td>\n",
       "      <td>0.0</td>\n",
       "      <td>0.0</td>\n",
       "      <td>0.0</td>\n",
       "      <td>0.0</td>\n",
       "      <td>0.0</td>\n",
       "      <td>0.0</td>\n",
       "      <td>0.0</td>\n",
       "      <td>...</td>\n",
       "      <td>0.0</td>\n",
       "      <td>0.0</td>\n",
       "      <td>0.0</td>\n",
       "      <td>0.0</td>\n",
       "      <td>0.0</td>\n",
       "      <td>0.0</td>\n",
       "      <td>0.0</td>\n",
       "      <td>0.0</td>\n",
       "      <td>0.0</td>\n",
       "      <td>0.0</td>\n",
       "    </tr>\n",
       "    <tr>\n",
       "      <th>101 dalmatians</th>\n",
       "      <td>0.0</td>\n",
       "      <td>0.0</td>\n",
       "      <td>0.0</td>\n",
       "      <td>0.0</td>\n",
       "      <td>0.0</td>\n",
       "      <td>0.0</td>\n",
       "      <td>0.0</td>\n",
       "      <td>0.0</td>\n",
       "      <td>0.0</td>\n",
       "      <td>0.0</td>\n",
       "      <td>...</td>\n",
       "      <td>0.0</td>\n",
       "      <td>0.0</td>\n",
       "      <td>0.0</td>\n",
       "      <td>0.0</td>\n",
       "      <td>0.0</td>\n",
       "      <td>0.0</td>\n",
       "      <td>0.0</td>\n",
       "      <td>0.0</td>\n",
       "      <td>0.0</td>\n",
       "      <td>0.0</td>\n",
       "    </tr>\n",
       "    <tr>\n",
       "      <th>16 lighthouse road</th>\n",
       "      <td>0.0</td>\n",
       "      <td>0.0</td>\n",
       "      <td>0.0</td>\n",
       "      <td>0.0</td>\n",
       "      <td>0.0</td>\n",
       "      <td>0.0</td>\n",
       "      <td>0.0</td>\n",
       "      <td>0.0</td>\n",
       "      <td>0.0</td>\n",
       "      <td>0.0</td>\n",
       "      <td>...</td>\n",
       "      <td>0.0</td>\n",
       "      <td>0.0</td>\n",
       "      <td>0.0</td>\n",
       "      <td>0.0</td>\n",
       "      <td>0.0</td>\n",
       "      <td>0.0</td>\n",
       "      <td>0.0</td>\n",
       "      <td>0.0</td>\n",
       "      <td>0.0</td>\n",
       "      <td>0.0</td>\n",
       "    </tr>\n",
       "    <tr>\n",
       "      <th>1984</th>\n",
       "      <td>0.0</td>\n",
       "      <td>9.0</td>\n",
       "      <td>0.0</td>\n",
       "      <td>0.0</td>\n",
       "      <td>0.0</td>\n",
       "      <td>0.0</td>\n",
       "      <td>0.0</td>\n",
       "      <td>0.0</td>\n",
       "      <td>0.0</td>\n",
       "      <td>0.0</td>\n",
       "      <td>...</td>\n",
       "      <td>0.0</td>\n",
       "      <td>0.0</td>\n",
       "      <td>0.0</td>\n",
       "      <td>0.0</td>\n",
       "      <td>0.0</td>\n",
       "      <td>0.0</td>\n",
       "      <td>0.0</td>\n",
       "      <td>0.0</td>\n",
       "      <td>0.0</td>\n",
       "      <td>0.0</td>\n",
       "    </tr>\n",
       "    <tr>\n",
       "      <th>...</th>\n",
       "      <td>...</td>\n",
       "      <td>...</td>\n",
       "      <td>...</td>\n",
       "      <td>...</td>\n",
       "      <td>...</td>\n",
       "      <td>...</td>\n",
       "      <td>...</td>\n",
       "      <td>...</td>\n",
       "      <td>...</td>\n",
       "      <td>...</td>\n",
       "      <td>...</td>\n",
       "      <td>...</td>\n",
       "      <td>...</td>\n",
       "      <td>...</td>\n",
       "      <td>...</td>\n",
       "      <td>...</td>\n",
       "      <td>...</td>\n",
       "      <td>...</td>\n",
       "      <td>...</td>\n",
       "      <td>...</td>\n",
       "      <td>...</td>\n",
       "    </tr>\n",
       "    <tr>\n",
       "      <th>your oasis on flame lake (ballantine reader's circle)</th>\n",
       "      <td>0.0</td>\n",
       "      <td>0.0</td>\n",
       "      <td>0.0</td>\n",
       "      <td>0.0</td>\n",
       "      <td>0.0</td>\n",
       "      <td>0.0</td>\n",
       "      <td>0.0</td>\n",
       "      <td>0.0</td>\n",
       "      <td>0.0</td>\n",
       "      <td>0.0</td>\n",
       "      <td>...</td>\n",
       "      <td>0.0</td>\n",
       "      <td>0.0</td>\n",
       "      <td>0.0</td>\n",
       "      <td>0.0</td>\n",
       "      <td>0.0</td>\n",
       "      <td>0.0</td>\n",
       "      <td>0.0</td>\n",
       "      <td>0.0</td>\n",
       "      <td>0.0</td>\n",
       "      <td>0.0</td>\n",
       "    </tr>\n",
       "    <tr>\n",
       "      <th>zen and the art of motorcycle maintenance: an inquiry into values</th>\n",
       "      <td>0.0</td>\n",
       "      <td>0.0</td>\n",
       "      <td>0.0</td>\n",
       "      <td>0.0</td>\n",
       "      <td>0.0</td>\n",
       "      <td>0.0</td>\n",
       "      <td>0.0</td>\n",
       "      <td>0.0</td>\n",
       "      <td>0.0</td>\n",
       "      <td>0.0</td>\n",
       "      <td>...</td>\n",
       "      <td>0.0</td>\n",
       "      <td>0.0</td>\n",
       "      <td>0.0</td>\n",
       "      <td>0.0</td>\n",
       "      <td>0.0</td>\n",
       "      <td>0.0</td>\n",
       "      <td>0.0</td>\n",
       "      <td>0.0</td>\n",
       "      <td>0.0</td>\n",
       "      <td>0.0</td>\n",
       "    </tr>\n",
       "    <tr>\n",
       "      <th>zia</th>\n",
       "      <td>0.0</td>\n",
       "      <td>0.0</td>\n",
       "      <td>0.0</td>\n",
       "      <td>0.0</td>\n",
       "      <td>0.0</td>\n",
       "      <td>0.0</td>\n",
       "      <td>0.0</td>\n",
       "      <td>0.0</td>\n",
       "      <td>0.0</td>\n",
       "      <td>0.0</td>\n",
       "      <td>...</td>\n",
       "      <td>0.0</td>\n",
       "      <td>0.0</td>\n",
       "      <td>0.0</td>\n",
       "      <td>0.0</td>\n",
       "      <td>0.0</td>\n",
       "      <td>0.0</td>\n",
       "      <td>0.0</td>\n",
       "      <td>0.0</td>\n",
       "      <td>0.0</td>\n",
       "      <td>0.0</td>\n",
       "    </tr>\n",
       "    <tr>\n",
       "      <th>zlata's diary: a child's life in sarajevo</th>\n",
       "      <td>0.0</td>\n",
       "      <td>0.0</td>\n",
       "      <td>0.0</td>\n",
       "      <td>0.0</td>\n",
       "      <td>0.0</td>\n",
       "      <td>0.0</td>\n",
       "      <td>0.0</td>\n",
       "      <td>0.0</td>\n",
       "      <td>0.0</td>\n",
       "      <td>0.0</td>\n",
       "      <td>...</td>\n",
       "      <td>0.0</td>\n",
       "      <td>0.0</td>\n",
       "      <td>0.0</td>\n",
       "      <td>0.0</td>\n",
       "      <td>0.0</td>\n",
       "      <td>0.0</td>\n",
       "      <td>0.0</td>\n",
       "      <td>0.0</td>\n",
       "      <td>0.0</td>\n",
       "      <td>0.0</td>\n",
       "    </tr>\n",
       "    <tr>\n",
       "      <th>zoya</th>\n",
       "      <td>0.0</td>\n",
       "      <td>0.0</td>\n",
       "      <td>0.0</td>\n",
       "      <td>0.0</td>\n",
       "      <td>0.0</td>\n",
       "      <td>0.0</td>\n",
       "      <td>0.0</td>\n",
       "      <td>0.0</td>\n",
       "      <td>0.0</td>\n",
       "      <td>0.0</td>\n",
       "      <td>...</td>\n",
       "      <td>0.0</td>\n",
       "      <td>0.0</td>\n",
       "      <td>0.0</td>\n",
       "      <td>0.0</td>\n",
       "      <td>0.0</td>\n",
       "      <td>0.0</td>\n",
       "      <td>0.0</td>\n",
       "      <td>0.0</td>\n",
       "      <td>0.0</td>\n",
       "      <td>0.0</td>\n",
       "    </tr>\n",
       "  </tbody>\n",
       "</table>\n",
       "<p>3037 rows × 1806 columns</p>\n",
       "</div>"
      ],
      "text/plain": [
       "userid                                              183     254     507     \\\n",
       "title                                                                        \n",
       "'salem's lot                                           0.0     0.0     0.0   \n",
       "10 lb. penalty                                         0.0     0.0     0.0   \n",
       "101 dalmatians                                         0.0     0.0     0.0   \n",
       "16 lighthouse road                                     0.0     0.0     0.0   \n",
       "1984                                                   0.0     9.0     0.0   \n",
       "...                                                    ...     ...     ...   \n",
       "your oasis on flame lake (ballantine reader's c...     0.0     0.0     0.0   \n",
       "zen and the art of motorcycle maintenance: an i...     0.0     0.0     0.0   \n",
       "zia                                                    0.0     0.0     0.0   \n",
       "zlata's diary: a child's life in sarajevo              0.0     0.0     0.0   \n",
       "zoya                                                   0.0     0.0     0.0   \n",
       "\n",
       "userid                                              882     1424    1435    \\\n",
       "title                                                                        \n",
       "'salem's lot                                           0.0     0.0     0.0   \n",
       "10 lb. penalty                                         0.0     0.0     0.0   \n",
       "101 dalmatians                                         0.0     0.0     0.0   \n",
       "16 lighthouse road                                     0.0     0.0     0.0   \n",
       "1984                                                   0.0     0.0     0.0   \n",
       "...                                                    ...     ...     ...   \n",
       "your oasis on flame lake (ballantine reader's c...     0.0     0.0     0.0   \n",
       "zen and the art of motorcycle maintenance: an i...     0.0     0.0     0.0   \n",
       "zia                                                    0.0     0.0     0.0   \n",
       "zlata's diary: a child's life in sarajevo              0.0     0.0     0.0   \n",
       "zoya                                                   0.0     0.0     0.0   \n",
       "\n",
       "userid                                              1733    1903    2033    \\\n",
       "title                                                                        \n",
       "'salem's lot                                           0.0     0.0     0.0   \n",
       "10 lb. penalty                                         0.0     0.0     0.0   \n",
       "101 dalmatians                                         0.0     0.0     0.0   \n",
       "16 lighthouse road                                     0.0     0.0     0.0   \n",
       "1984                                                   0.0     0.0     0.0   \n",
       "...                                                    ...     ...     ...   \n",
       "your oasis on flame lake (ballantine reader's c...     0.0     0.0     0.0   \n",
       "zen and the art of motorcycle maintenance: an i...     0.0     0.0     0.0   \n",
       "zia                                                    0.0     0.0     0.0   \n",
       "zlata's diary: a child's life in sarajevo              0.0     0.0     0.0   \n",
       "zoya                                                   0.0     0.0     0.0   \n",
       "\n",
       "userid                                              2110    ...  276018  \\\n",
       "title                                                       ...           \n",
       "'salem's lot                                           0.0  ...     0.0   \n",
       "10 lb. penalty                                         0.0  ...     0.0   \n",
       "101 dalmatians                                         0.0  ...     0.0   \n",
       "16 lighthouse road                                     0.0  ...     0.0   \n",
       "1984                                                   0.0  ...     0.0   \n",
       "...                                                    ...  ...     ...   \n",
       "your oasis on flame lake (ballantine reader's c...     0.0  ...     0.0   \n",
       "zen and the art of motorcycle maintenance: an i...     0.0  ...     0.0   \n",
       "zia                                                    0.0  ...     0.0   \n",
       "zlata's diary: a child's life in sarajevo              0.0  ...     0.0   \n",
       "zoya                                                   0.0  ...     0.0   \n",
       "\n",
       "userid                                              276463  276680  276925  \\\n",
       "title                                                                        \n",
       "'salem's lot                                           0.0     0.0     0.0   \n",
       "10 lb. penalty                                         0.0     0.0     0.0   \n",
       "101 dalmatians                                         0.0     0.0     0.0   \n",
       "16 lighthouse road                                     0.0     0.0     0.0   \n",
       "1984                                                   0.0     0.0     0.0   \n",
       "...                                                    ...     ...     ...   \n",
       "your oasis on flame lake (ballantine reader's c...     0.0     0.0     0.0   \n",
       "zen and the art of motorcycle maintenance: an i...     0.0     0.0     0.0   \n",
       "zia                                                    0.0     0.0     0.0   \n",
       "zlata's diary: a child's life in sarajevo              0.0     0.0     0.0   \n",
       "zoya                                                   0.0     0.0     0.0   \n",
       "\n",
       "userid                                              277427  277478  277639  \\\n",
       "title                                                                        \n",
       "'salem's lot                                           0.0     0.0     0.0   \n",
       "10 lb. penalty                                         0.0     0.0     0.0   \n",
       "101 dalmatians                                         0.0     0.0     0.0   \n",
       "16 lighthouse road                                     0.0     0.0     0.0   \n",
       "1984                                                   0.0     0.0     0.0   \n",
       "...                                                    ...     ...     ...   \n",
       "your oasis on flame lake (ballantine reader's c...     0.0     0.0     0.0   \n",
       "zen and the art of motorcycle maintenance: an i...     0.0     0.0     0.0   \n",
       "zia                                                    0.0     0.0     0.0   \n",
       "zlata's diary: a child's life in sarajevo              0.0     0.0     0.0   \n",
       "zoya                                                   0.0     0.0     0.0   \n",
       "\n",
       "userid                                              278137  278188  278418  \n",
       "title                                                                       \n",
       "'salem's lot                                           0.0     0.0     0.0  \n",
       "10 lb. penalty                                         0.0     0.0     0.0  \n",
       "101 dalmatians                                         0.0     0.0     0.0  \n",
       "16 lighthouse road                                     0.0     0.0     0.0  \n",
       "1984                                                   0.0     0.0     0.0  \n",
       "...                                                    ...     ...     ...  \n",
       "your oasis on flame lake (ballantine reader's c...     0.0     0.0     0.0  \n",
       "zen and the art of motorcycle maintenance: an i...     0.0     0.0     0.0  \n",
       "zia                                                    0.0     0.0     0.0  \n",
       "zlata's diary: a child's life in sarajevo              0.0     0.0     0.0  \n",
       "zoya                                                   0.0     0.0     0.0  \n",
       "\n",
       "[3037 rows x 1806 columns]"
      ]
     },
     "execution_count": 19,
     "metadata": {},
     "output_type": "execute_result"
    }
   ],
   "source": [
    "data_pivot = data.pivot_table(columns='userid', index='title', values=\"rating\")\n",
    "data_pivot.fillna(0, inplace=True)\n",
    "data_pivot"
   ]
  },
  {
   "cell_type": "code",
   "execution_count": 20,
   "id": "365bc33f",
   "metadata": {},
   "outputs": [],
   "source": [
    "#As we have numerous zero values in our matrix which would affect computation, we compress the data to sparse matrix\n",
    "data_sparse = csr_matrix(data_pivot)"
   ]
  },
  {
   "cell_type": "markdown",
   "id": "3c3fd798",
   "metadata": {},
   "source": [
    "### Modelling: Fitting the model to KNN"
   ]
  },
  {
   "cell_type": "code",
   "execution_count": 21,
   "id": "7dc98e5b",
   "metadata": {},
   "outputs": [
    {
     "data": {
      "text/plain": [
       "NearestNeighbors(algorithm='brute')"
      ]
     },
     "execution_count": 21,
     "metadata": {},
     "output_type": "execute_result"
    }
   ],
   "source": [
    "model = NearestNeighbors(algorithm='brute')\n",
    "model.fit(data_sparse)"
   ]
  },
  {
   "cell_type": "code",
   "execution_count": 22,
   "id": "ceab9176",
   "metadata": {},
   "outputs": [],
   "source": [
    "distances, recommendations = model.kneighbors(data_pivot.iloc[237, :].values.reshape(1, -1))"
   ]
  },
  {
   "cell_type": "code",
   "execution_count": 23,
   "id": "ffcbb177",
   "metadata": {
    "scrolled": true
   },
   "outputs": [
    {
     "name": "stdout",
     "output_type": "stream",
     "text": [
      "Index(['atonement : a novel', 'long, lean, and lethal', 'house', 'blind spot',\n",
      "       'great expectations'],\n",
      "      dtype='object', name='title')\n"
     ]
    }
   ],
   "source": [
    "for i in range(len(recommendations)):\n",
    "    print(data_pivot.index[recommendations[i]])"
   ]
  },
  {
   "cell_type": "code",
   "execution_count": 24,
   "id": "3ddbea2d",
   "metadata": {},
   "outputs": [
    {
     "name": "stdout",
     "output_type": "stream",
     "text": [
      "Enter name of a book: young wives\n",
      "\n",
      "Recommended Books:\n",
      "\t snow in august\n",
      "\t commitments\n",
      "\t people like us\n",
      "\t house\n"
     ]
    }
   ],
   "source": [
    "book_name = input(\"Enter name of a book: \")\n",
    "\n",
    "if book_name.lower() in data_pivot.index:\n",
    "    distances, recommendations = model.kneighbors(data_pivot.loc[[book_name]].values.reshape(1, -1))\n",
    "    recom_list = data_pivot.index[recommendations[0]]\n",
    "    print(\"\\nRecommended Books:\")\n",
    "    for i in range(1,len(recom_list)):\n",
    "        print(\"\\t\",recom_list[i])\n",
    "else:\n",
    "    print(\"\\nEntered book not found!! Please try with a different book.\")"
   ]
  },
  {
   "cell_type": "markdown",
   "id": "9232492f",
   "metadata": {},
   "source": [
    "Reference: https://www.analyticsvidhya.com/blog/2021/06/build-book-recommendation-system-unsupervised-learning-project/"
   ]
  },
  {
   "cell_type": "code",
   "execution_count": null,
   "id": "aa26cfa8",
   "metadata": {},
   "outputs": [],
   "source": []
  }
 ],
 "metadata": {
  "kernelspec": {
   "display_name": "Python 3",
   "language": "python",
   "name": "python3"
  },
  "language_info": {
   "codemirror_mode": {
    "name": "ipython",
    "version": 3
   },
   "file_extension": ".py",
   "mimetype": "text/x-python",
   "name": "python",
   "nbconvert_exporter": "python",
   "pygments_lexer": "ipython3",
   "version": "3.8.8"
  }
 },
 "nbformat": 4,
 "nbformat_minor": 5
}
